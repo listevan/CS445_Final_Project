{
  "cells": [
    {
      "cell_type": "markdown",
      "metadata": {
        "id": "QhnJm7NQn9Pq"
      },
      "source": [
        "# GAN - Mario Project\n",
        "## CS 445 - Rishi Shah, Steven Li"
      ]
    },
    {
      "cell_type": "code",
      "execution_count": 1,
      "metadata": {
        "id": "p-qIy6h5n606"
      },
      "outputs": [],
      "source": [
        "#Libraries Import\n",
        "\n",
        "import torch\n",
        "from torch import nn\n",
        "import math\n",
        "import matplotlib.pyplot as plt\n",
        "import os\n",
        "from PIL import Image\n",
        "import numpy as np\n",
        "import cv2"
      ]
    },
    {
      "cell_type": "code",
      "execution_count": 2,
      "metadata": {
        "id": "qLFhOULSxISy"
      },
      "outputs": [],
      "source": [
        "# Directory containing the images\n",
        "directory = \"Original\"\n",
        "output_dir = \"Blocks\""
      ]
    },
    {
      "cell_type": "markdown",
      "metadata": {
        "id": "BimvqRmlp3b0"
      },
      "source": [
        "## Data Processing"
      ]
    },
    {
      "cell_type": "code",
      "execution_count": 3,
      "metadata": {
        "id": "eZIS0SXGc0Lp"
      },
      "outputs": [],
      "source": [
        "def norm(arr):\n",
        "    return (arr - arr.min()) / (arr.max() - arr.min()+1e-6)\n",
        "\n",
        "def sigmoid(x):\n",
        "    return 1 / (1 + np.exp(-x))\n",
        "\n",
        "def ssd_score(im1, im2):\n",
        "    return np.sum(((im1 - im2)**2))"
      ]
    },
    {
      "cell_type": "code",
      "execution_count": 4,
      "metadata": {
        "id": "SraUy3XWwWB8"
      },
      "outputs": [],
      "source": [
        "block_dir = \"block_types\"\n",
        "block_types = []\n",
        "for i, file in enumerate(sorted(os.listdir(block_dir))):\n",
        "  if file.split('.')[-1] != 'png':\n",
        "    continue\n",
        "  block_types.append(np.array(Image.open(os.path.join(block_dir, file)).convert('L')))"
      ]
    },
    {
      "cell_type": "code",
      "execution_count": 5,
      "metadata": {},
      "outputs": [],
      "source": [
        "color_block_types = []\n",
        "for i, file in enumerate(sorted(os.listdir(block_dir))):\n",
        "  if file.split('.')[-1] != 'png':\n",
        "    continue\n",
        "  color_block_types.append(np.array(Image.open(os.path.join(block_dir, file)).convert('RGB')))"
      ]
    },
    {
      "cell_type": "code",
      "execution_count": 6,
      "metadata": {
        "id": "FkyODyLewE1p"
      },
      "outputs": [],
      "source": [
        "def encode_image(image, block_types, block_size = 16, block_threshold = .5):\n",
        "    encoded_image = np.zeros(tuple([x // block_size for x in image.shape[:2]]), dtype=np.uint8) # increase number of classes to number of different blocks, +1 for background\n",
        "\n",
        "    for i in range(0, image.shape[0], block_size):\n",
        "        for j in range(0, image.shape[1], block_size):\n",
        "            curr_block = image[i:i+block_size, j:j+block_size]\n",
        "            if curr_block.shape != (block_size, block_size):\n",
        "                continue\n",
        "            closest_block_values = []\n",
        "            for k in range(len(block_types)):\n",
        "                closest_block_values.append(ssd_score(curr_block[1:-1,1:-1], block_types[k][1:-1, 1:-1]))\n",
        "            closest_block_values.append(block_threshold)\n",
        "            encoded_image[i // block_size, j // block_size] = np.argmin(np.array(closest_block_values))\n",
        "    return encoded_image"
      ]
    },
    {
      "cell_type": "code",
      "execution_count": 7,
      "metadata": {
        "id": "jjxpSfJeHHWA"
      },
      "outputs": [],
      "source": [
        "def decode_image(image, block_types, block_size = 16, block_threshold = .5, use_color = False):\n",
        "    # need to complete\n",
        "    image = image.astype(int)\n",
        "    decoded_image = np.zeros(tuple([x * block_size for x in image.shape[:2]]))\n",
        "    if use_color:\n",
        "      decoded_image = np.stack([decoded_image] * 3, axis=2)\n",
        "\n",
        "    for i in range(image.shape[0]):\n",
        "      for j in range(image.shape[1]):\n",
        "        k = image[i, j]\n",
        "        if k == len(block_types): # background\n",
        "          continue\n",
        "        else:\n",
        "          if use_color:\n",
        "            decoded_image[i*16:i*16+16, j*16:j*16+16, :] = block_types[k]\n",
        "          else:\n",
        "            decoded_image[i*16:i*16+16, j*16:j*16+16] = block_types[k]\n",
        "\n",
        "    return decoded_image.astype(np.uint8)"
      ]
    },
    {
      "cell_type": "code",
      "execution_count": 8,
      "metadata": {
        "colab": {
          "base_uri": "https://localhost:8080/"
        },
        "id": "wfTiB4yTZW1l",
        "outputId": "22e9cb2b-392e-4853-cd79-a9466c7ed7af"
      },
      "outputs": [
        {
          "name": "stdout",
          "output_type": "stream",
          "text": [
            "(16, 373)\n",
            "(16, 215)\n",
            "mario-8-3.png\n",
            "(16, 197)\n",
            "(16, 184)\n",
            "mario-4-3.png\n",
            "mario-4-2.png\n",
            "(16, 215)\n",
            "(16, 222)\n",
            "mario-6-3.png\n",
            "mario-1-2.png\n",
            "(16, 197)\n",
            "mario-1-3.png\n",
            "(16, 202)\n",
            "mario-3-3.png\n",
            "(16, 208)\n",
            "(16, 198)\n",
            "mario-5-3.png\n",
            "(16, 176)\n",
            "(16, 199)\n"
          ]
        }
      ],
      "source": [
        "# ONLY NEED TO RUN ONCE\n",
        "\n",
        "processed_dir = \"processed_images\"\n",
        "os.makedirs(processed_dir, exist_ok=True)\n",
        "for existing_file in os.listdir(processed_dir):\n",
        "    existing_filepath = os.path.join(processed_dir, existing_file)\n",
        "    if os.path.isfile(existing_filepath):\n",
        "        os.remove(existing_filepath)\n",
        "\n",
        "# bad images\n",
        "bad_images = ['mario-6-3.png', 'mario-8-3.png', 'mario-4-2.png', 'mario-1-2.png', 'mario-4-3.png', 'mario-5-3.png', 'mario-3-3.png', 'mario-1-3.png']\n",
        "\n",
        "for file in os.listdir(directory):\n",
        "  if file in bad_images:\n",
        "    print(file)\n",
        "    continue\n",
        "  im = np.array(Image.open(os.path.join(directory, file)).convert('L'))\n",
        "  output = encode_image(im, block_types)\n",
        "  top_padding = np.zeros((3, output.shape[1]))\n",
        "  top_padding[:, :] = len(block_types) # background\n",
        "  output = np.append(top_padding, output, axis = 0) # padding to height 16\n",
        "  print(output.shape)\n",
        "  # save as .npy or .pkl\n",
        "  np.save(os.path.join(processed_dir, file), output)"
      ]
    },
    {
      "cell_type": "code",
      "execution_count": 9,
      "metadata": {
        "colab": {
          "base_uri": "https://localhost:8080/"
        },
        "id": "ue2nQXuVoAkp",
        "outputId": "dd544ce4-466d-4907-bd84-59ac03c955c0"
      },
      "outputs": [
        {
          "name": "stdout",
          "output_type": "stream",
          "text": [
            "Count of Levels 12\n",
            "Training Images Avalible 807\n"
          ]
        }
      ],
      "source": [
        "# Ensure the output directory exists\n",
        "os.makedirs(output_dir, exist_ok=True)\n",
        "\n",
        "# Block dimensions\n",
        "block_width = 16\n",
        "block_height = 16 # maybe pad height with 0s\n",
        "skip = 3\n",
        "\n",
        "count_of_images = 0\n",
        "count_of_blocks = 0\n",
        "for existing_file in os.listdir(output_dir):\n",
        "    existing_filepath = os.path.join(output_dir, existing_file)\n",
        "    if os.path.isfile(existing_filepath):\n",
        "        os.remove(existing_filepath)\n",
        "\n",
        "\n",
        "for file in os.listdir(processed_dir):\n",
        "    filepath = os.path.join(processed_dir, file)\n",
        "    # load numpy array\n",
        "    data = np.load(filepath)\n",
        "\n",
        "    # Get image dimensions\n",
        "    img_width, img_height = data.shape\n",
        "    if img_width >= block_width and img_height >= block_height:\n",
        "        count_of_images += 1\n",
        "        for y in range(0, img_height, skip):\n",
        "            for x in range(0, img_width, skip):\n",
        "                # Ensure the block fits within the image\n",
        "                if x + block_width <= img_width and y + block_height <= img_height:\n",
        "                    # Crop the block\n",
        "                    block = data[x:x+block_width, y:y+block_height].copy()\n",
        "\n",
        "                    # Save the block\n",
        "                    block_filename = f\"{file.split('.')[0]}_block_{x}_{y}\"\n",
        "                    np.save(os.path.join(output_dir, block_filename), block)\n",
        "                    count_of_blocks += 1\n",
        "\n",
        "print(\"Count of Levels\", count_of_images)\n",
        "print(\"Training Images Avalible\", count_of_blocks)"
      ]
    },
    {
      "cell_type": "markdown",
      "metadata": {
        "id": "pAmY9bv80OAP"
      },
      "source": [
        "## GAN Setup and Traning\n"
      ]
    },
    {
      "cell_type": "code",
      "execution_count": 10,
      "metadata": {
        "id": "K4fuzgVE0NvU"
      },
      "outputs": [],
      "source": [
        "#%matplotlib inline\n",
        "import argparse\n",
        "import os\n",
        "import random\n",
        "import torch\n",
        "import torch.nn as nn\n",
        "import torch.nn.parallel\n",
        "import torch.optim as optim\n",
        "from torch.utils.data import Dataset, DataLoader\n",
        "import torchvision.transforms as transforms\n",
        "import torchvision.utils as vutils\n",
        "import numpy as np\n",
        "import matplotlib.pyplot as plt\n",
        "import matplotlib.animation as animation\n",
        "\n",
        "# # Set random seed for reproducibility\n",
        "# manualSeed = 999\n",
        "# #manualSeed = random.randint(1, 10000) # use if you want new results\n",
        "# print(\"Random Seed: \", manualSeed)\n",
        "# random.seed(manualSeed)\n",
        "# torch.manual_seed(manualSeed)\n",
        "# torch.use_deterministic_algorithms(True) # Needed for reproducible results"
      ]
    },
    {
      "cell_type": "code",
      "execution_count": 11,
      "metadata": {
        "id": "1czRGmj60Nii"
      },
      "outputs": [],
      "source": [
        "# Root directory for dataset\n",
        "dataroot = output_dir\n",
        "\n",
        "# Number of workers for dataloader\n",
        "workers = 2\n",
        "\n",
        "# Batch size during training\n",
        "batch_size = 64\n",
        "\n",
        "# Spatial size of training images. All images will be resized to this\n",
        "#   size using a transformer.\n",
        "image_size = 16\n",
        "\n",
        "# Number of channels in the training images. For color images this is 3\n",
        "nc = 1 \n",
        "\n",
        "# Size of z latent vector (i.e. size of generator input)\n",
        "nz = 100\n",
        "\n",
        "# Size of feature maps in generator\n",
        "ngf = 128\n",
        "\n",
        "# Size of feature maps in discriminator\n",
        "ndf = 128\n",
        "\n",
        "# Number of training epochs\n",
        "num_epochs = 1000\n",
        "\n",
        "# Learning rate for optimizers\n",
        "lr = 0.0001\n",
        "\n",
        "# Beta1 hyperparameter for Adam optimizers\n",
        "beta1 = 0.5\n",
        "\n",
        "# Number of GPUs available. Use 0 for CPU mode.\n",
        "ngpu = 1\n"
      ]
    },
    {
      "cell_type": "code",
      "execution_count": 12,
      "metadata": {
        "id": "2fLk9N8Oe5ne"
      },
      "outputs": [],
      "source": [
        "class Encoded_Im_Dataset(Dataset):\n",
        "    def __init__(self, dir, transform=None):\n",
        "        self.dir = dir\n",
        "        self.transform = transform\n",
        "        self.files = [os.path.join(dir, file) for file in os.listdir(dir) if file.endswith(('.npy'))]\n",
        "\n",
        "    def __len__(self):\n",
        "        return len(self.files)\n",
        "\n",
        "    def __getitem__(self, idx):\n",
        "        # Load the image\n",
        "        img_path = self.files[idx]\n",
        "        img = np.load(img_path).astype(np.float32)\n",
        "        \n",
        "        # Apply transformations, if any\n",
        "        if self.transform:\n",
        "            img = self.transform(img)\n",
        "        \n",
        "        return img"
      ]
    },
    {
      "cell_type": "code",
      "execution_count": 13,
      "metadata": {
        "id": "Q7m1qIwg0wh5"
      },
      "outputs": [],
      "source": [
        "# We can use an image folder dataset the way we have it setup.\n",
        "# Create the dataset\n",
        "dataset = Encoded_Im_Dataset(dir=dataroot, transform=transforms.ToTensor())\n",
        "# Create the dataloader\n",
        "dataloader = DataLoader(dataset, batch_size=batch_size,\n",
        "                                         shuffle=True, num_workers=0)\n",
        "\n",
        "# Decide which device we want to run on\n",
        "device = torch.device(\n",
        "    \"cuda\" if torch.cuda.is_available() else\n",
        "    \"cpu\"\n",
        ")"
      ]
    },
    {
      "cell_type": "code",
      "execution_count": 14,
      "metadata": {
        "id": "nywrp_Kq2Wgy"
      },
      "outputs": [],
      "source": [
        "# custom weights initialization called on ``netG`` and ``netD``\n",
        "def weights_init(m):\n",
        "    classname = m.__class__.__name__\n",
        "    if classname.find('Conv') != -1:\n",
        "        nn.init.normal_(m.weight.data, 0.0, 0.02)\n",
        "    elif classname.find('BatchNorm') != -1:\n",
        "        nn.init.normal_(m.weight.data, 1.0, 0.02)\n",
        "        nn.init.constant_(m.bias.data, 0)"
      ]
    },
    {
      "cell_type": "code",
      "execution_count": 15,
      "metadata": {
        "id": "Qpg1c6dV48L4"
      },
      "outputs": [],
      "source": [
        "# ConvTranspose2d(in_channels, out_channels, kernel_size, stride, padding, bias)\n",
        "class Generator(nn.Module):\n",
        "    def __init__(self, ngpu):\n",
        "        super(Generator, self).__init__()\n",
        "        self.ngpu = ngpu\n",
        "        self.main = nn.Sequential(\n",
        "            # input is Z, going into a convolution\n",
        "            nn.Conv2d( nz, ngf * 8, kernel_size=3, padding=1, bias=False),\n",
        "            nn.BatchNorm2d(ngf * 8),\n",
        "            nn.ReLU(True),\n",
        "            nn.Dropout(.3), \n",
        "            nn.Upsample(scale_factor=2, mode='bilinear', align_corners=True),\n",
        "            # state size. ``(ngf*8) x 2 x 2``\n",
        "            nn.Conv2d( ngf * 8, ngf * 4, kernel_size=3, padding=1, bias=False),\n",
        "            nn.BatchNorm2d(ngf * 4),\n",
        "            nn.ReLU(True),\n",
        "            nn.Dropout(.3), \n",
        "            nn.Upsample(scale_factor=2, mode='bilinear', align_corners=True),\n",
        "            # state size. ``(ngf*4) x 4 x 4``\n",
        "            nn.Conv2d( ngf * 4, ngf * 2, kernel_size=3, padding=1, bias=False),\n",
        "            nn.BatchNorm2d(ngf * 2),\n",
        "            nn.ReLU(True),\n",
        "            nn.Dropout(.3), \n",
        "            nn.Upsample(scale_factor=2, mode='bilinear', align_corners=True),\n",
        "            # state size. ``(ngf*2) x 8 x 8``\n",
        "            nn.Conv2d( ngf * 2, ngf, kernel_size=3, padding=1, bias=False),\n",
        "            nn.BatchNorm2d(ngf),\n",
        "            nn.ReLU(True),\n",
        "            nn.Dropout(.3), \n",
        "            nn.Upsample(scale_factor=2, mode='bilinear', align_corners=True),\n",
        "            # state size. ``(ngf) x 16 x 16``\n",
        "            nn.Conv2d( ngf, nc, kernel_size=3, padding=1, bias=False),\n",
        "            nn.BatchNorm2d(nc),\n",
        "            nn.ReLU(True),\n",
        "            nn.Dropout(.3), \n",
        "            nn.Conv2d( nc, nc, kernel_size=3, padding=1, bias=False),\n",
        "            nn.Sigmoid() # originally tanh\n",
        "            # state size. ``(nc) x 16 x 16``\n",
        "        )\n",
        "\n",
        "    def forward(self, input):\n",
        "        return self.main(input) * 10\n"
      ]
    },
    {
      "cell_type": "code",
      "execution_count": 16,
      "metadata": {
        "colab": {
          "base_uri": "https://localhost:8080/"
        },
        "id": "M2KB8LAI4_kO",
        "outputId": "aae2cd39-642e-4d6b-8379-1d112f20a06b"
      },
      "outputs": [
        {
          "name": "stdout",
          "output_type": "stream",
          "text": [
            "Generator(\n",
            "  (main): Sequential(\n",
            "    (0): Conv2d(100, 1024, kernel_size=(3, 3), stride=(1, 1), padding=(1, 1), bias=False)\n",
            "    (1): BatchNorm2d(1024, eps=1e-05, momentum=0.1, affine=True, track_running_stats=True)\n",
            "    (2): ReLU(inplace=True)\n",
            "    (3): Dropout(p=0.3, inplace=False)\n",
            "    (4): Upsample(scale_factor=2.0, mode='bilinear')\n",
            "    (5): Conv2d(1024, 512, kernel_size=(3, 3), stride=(1, 1), padding=(1, 1), bias=False)\n",
            "    (6): BatchNorm2d(512, eps=1e-05, momentum=0.1, affine=True, track_running_stats=True)\n",
            "    (7): ReLU(inplace=True)\n",
            "    (8): Dropout(p=0.3, inplace=False)\n",
            "    (9): Upsample(scale_factor=2.0, mode='bilinear')\n",
            "    (10): Conv2d(512, 256, kernel_size=(3, 3), stride=(1, 1), padding=(1, 1), bias=False)\n",
            "    (11): BatchNorm2d(256, eps=1e-05, momentum=0.1, affine=True, track_running_stats=True)\n",
            "    (12): ReLU(inplace=True)\n",
            "    (13): Dropout(p=0.3, inplace=False)\n",
            "    (14): Upsample(scale_factor=2.0, mode='bilinear')\n",
            "    (15): Conv2d(256, 128, kernel_size=(3, 3), stride=(1, 1), padding=(1, 1), bias=False)\n",
            "    (16): BatchNorm2d(128, eps=1e-05, momentum=0.1, affine=True, track_running_stats=True)\n",
            "    (17): ReLU(inplace=True)\n",
            "    (18): Dropout(p=0.3, inplace=False)\n",
            "    (19): Upsample(scale_factor=2.0, mode='bilinear')\n",
            "    (20): Conv2d(128, 1, kernel_size=(3, 3), stride=(1, 1), padding=(1, 1), bias=False)\n",
            "    (21): BatchNorm2d(1, eps=1e-05, momentum=0.1, affine=True, track_running_stats=True)\n",
            "    (22): ReLU(inplace=True)\n",
            "    (23): Dropout(p=0.3, inplace=False)\n",
            "    (24): Conv2d(1, 1, kernel_size=(3, 3), stride=(1, 1), padding=(1, 1), bias=False)\n",
            "    (25): Sigmoid()\n",
            "  )\n",
            ")\n"
          ]
        }
      ],
      "source": [
        "# Create the generator\n",
        "netG = Generator(ngpu).to(device)\n",
        "\n",
        "# Handle multi-GPU if desired\n",
        "if (device.type == 'cuda') and (ngpu > 1):\n",
        "    netG = nn.DataParallel(netG, list(range(ngpu)))\n",
        "\n",
        "# Apply the ``weights_init`` function to randomly initialize all weights\n",
        "#  to ``mean=0``, ``stdev=0.02``.\n",
        "netG.apply(weights_init)\n",
        "\n",
        "# Print the model\n",
        "print(netG)"
      ]
    },
    {
      "cell_type": "code",
      "execution_count": 17,
      "metadata": {
        "id": "HUvK_7N75DMi"
      },
      "outputs": [],
      "source": [
        "# Conv2d(in_channels, out_channels, kernel_size, stride, padding, bias)\n",
        "class Discriminator(nn.Module):\n",
        "    def __init__(self, ngpu):\n",
        "        super(Discriminator, self).__init__()\n",
        "        self.ngpu = ngpu\n",
        "        self.main = nn.Sequential(\n",
        "            # input is ``(nc) x 16 x 16``\n",
        "            nn.Conv2d(nc, ndf, kernel_size=3, padding=1, bias=False),\n",
        "            nn.BatchNorm2d(ndf),\n",
        "            nn.LeakyReLU(0.2, inplace=True),\n",
        "            nn.MaxPool2d(kernel_size=2, stride=2),\n",
        "            # state size. ``(ndf) x 8 x 8``\n",
        "            nn.Conv2d(ndf, ndf * 2, kernel_size=3, padding=1, bias=False),\n",
        "            nn.BatchNorm2d(ndf * 2),\n",
        "            nn.LeakyReLU(0.2, inplace=True),\n",
        "            nn.MaxPool2d(kernel_size=2, stride=2),\n",
        "            # state size. ``(ndf*2) x 4 x 4``\n",
        "            nn.Conv2d(ndf * 2, ndf * 4, kernel_size=3, padding=1, bias=False),\n",
        "            nn.BatchNorm2d(ndf * 4),\n",
        "            nn.LeakyReLU(0.2, inplace=True),\n",
        "            nn.MaxPool2d(kernel_size=2, stride=2),\n",
        "            # state size. ``(ndf*4) x 2 x 2``\n",
        "            nn.Conv2d(ndf * 4, ndf * 8, kernel_size=3, padding=1, bias=False),\n",
        "            nn.BatchNorm2d(ndf * 8),\n",
        "            nn.LeakyReLU(0.2, inplace=True),\n",
        "            nn.MaxPool2d(kernel_size=2, stride=2),\n",
        "            # state size. ``(ndf*8) x 1 x 1``\n",
        "            nn.Conv2d(ndf * 8, 1, kernel_size=3, padding=1, bias=False),\n",
        "            nn.Sigmoid()\n",
        "        )\n",
        "\n",
        "    def forward(self, input):\n",
        "        return self.main(input)\n"
      ]
    },
    {
      "cell_type": "code",
      "execution_count": 18,
      "metadata": {
        "colab": {
          "base_uri": "https://localhost:8080/"
        },
        "id": "nBfLyL965GE7",
        "outputId": "2e87fb2a-1770-4d28-e5d7-fcca42d89913"
      },
      "outputs": [
        {
          "name": "stdout",
          "output_type": "stream",
          "text": [
            "Discriminator(\n",
            "  (main): Sequential(\n",
            "    (0): Conv2d(1, 128, kernel_size=(3, 3), stride=(1, 1), padding=(1, 1), bias=False)\n",
            "    (1): BatchNorm2d(128, eps=1e-05, momentum=0.1, affine=True, track_running_stats=True)\n",
            "    (2): LeakyReLU(negative_slope=0.2, inplace=True)\n",
            "    (3): MaxPool2d(kernel_size=2, stride=2, padding=0, dilation=1, ceil_mode=False)\n",
            "    (4): Conv2d(128, 256, kernel_size=(3, 3), stride=(1, 1), padding=(1, 1), bias=False)\n",
            "    (5): BatchNorm2d(256, eps=1e-05, momentum=0.1, affine=True, track_running_stats=True)\n",
            "    (6): LeakyReLU(negative_slope=0.2, inplace=True)\n",
            "    (7): MaxPool2d(kernel_size=2, stride=2, padding=0, dilation=1, ceil_mode=False)\n",
            "    (8): Conv2d(256, 512, kernel_size=(3, 3), stride=(1, 1), padding=(1, 1), bias=False)\n",
            "    (9): BatchNorm2d(512, eps=1e-05, momentum=0.1, affine=True, track_running_stats=True)\n",
            "    (10): LeakyReLU(negative_slope=0.2, inplace=True)\n",
            "    (11): MaxPool2d(kernel_size=2, stride=2, padding=0, dilation=1, ceil_mode=False)\n",
            "    (12): Conv2d(512, 1024, kernel_size=(3, 3), stride=(1, 1), padding=(1, 1), bias=False)\n",
            "    (13): BatchNorm2d(1024, eps=1e-05, momentum=0.1, affine=True, track_running_stats=True)\n",
            "    (14): LeakyReLU(negative_slope=0.2, inplace=True)\n",
            "    (15): MaxPool2d(kernel_size=2, stride=2, padding=0, dilation=1, ceil_mode=False)\n",
            "    (16): Conv2d(1024, 1, kernel_size=(3, 3), stride=(1, 1), padding=(1, 1), bias=False)\n",
            "    (17): Sigmoid()\n",
            "  )\n",
            ")\n"
          ]
        }
      ],
      "source": [
        "# Create the Discriminator\n",
        "netD = Discriminator(ngpu).to(device)\n",
        "\n",
        "# Handle multi-GPU if desired\n",
        "if (device.type == 'cuda') and (ngpu > 1):\n",
        "    netD = nn.DataParallel(netD, list(range(ngpu)))\n",
        "\n",
        "# Apply the ``weights_init`` function to randomly initialize all weights\n",
        "# like this: ``to mean=0, stdev=0.2``.\n",
        "netD.apply(weights_init)\n",
        "\n",
        "# Print the model\n",
        "print(netD)"
      ]
    },
    {
      "cell_type": "code",
      "execution_count": 19,
      "metadata": {
        "id": "aRLvi-8L5Idy"
      },
      "outputs": [],
      "source": [
        "criterion = nn.BCELoss()\n",
        "\n",
        "# Create batch of latent vectors that we will use to visualize the progression of the generator\n",
        "fixed_noise = torch.randn(5, nz, 1, 1, device=device)\n",
        "\n",
        "lambda_gp = 10 # Gradient Penalty\n",
        "\n",
        "real_label = 1.\n",
        "fake_label = 0.\n",
        "\n",
        "# Setup Adam optimizers for both G and D\n",
        "optimizerD = optim.Adam(netD.parameters(), lr=2*lr, betas=(beta1, 0.999))\n",
        "optimizerG = optim.Adam(netG.parameters(), lr=lr, betas=(beta1, 0.999)) # increased to make generator learn faster than discriminator"
      ]
    },
    {
      "cell_type": "code",
      "execution_count": null,
      "metadata": {
        "colab": {
          "base_uri": "https://localhost:8080/"
        },
        "id": "FwnVkctL5e4L",
        "outputId": "09db7292-b40e-47df-9589-caa47fa79944"
      },
      "outputs": [
        {
          "name": "stdout",
          "output_type": "stream",
          "text": [
            "Starting Training Loop...\n"
          ]
        },
        {
          "name": "stderr",
          "output_type": "stream",
          "text": [
            "  0%|          | 0/1000 [00:00<?, ?it/s]"
          ]
        }
      ],
      "source": [
        "# Training Loop\n",
        "from tqdm import tqdm\n",
        "\n",
        "# Lists to keep track of progress\n",
        "img_list = []\n",
        "G_losses = []\n",
        "D_losses = []\n",
        "\n",
        "print(\"Starting Training Loop...\")\n",
        "# For each epoch\n",
        "for epoch in tqdm(range(num_epochs)):\n",
        "    # For each batch in the dataloader\n",
        "    for i, data in enumerate(dataloader):\n",
        "        for i in range(5):\n",
        "          ############################\n",
        "          # (1) Update D network: maximize log(D(x)) + log(1 - D(G(z)))\n",
        "          ###########################\n",
        "          ## Train with all-real batch\n",
        "          netD.zero_grad()\n",
        "          # Format batch\n",
        "          real_cpu = data.to(device)\n",
        "          b_size = real_cpu.size(0)\n",
        "          label = torch.full((b_size,), real_label, dtype=torch.float, device=device)\n",
        "          # Forward pass real batch through D\n",
        "          output = netD(real_cpu).view(-1)\n",
        "          # Calculate loss on all-real batch\n",
        "          errD_real = criterion(output, label)\n",
        "          # Calculate gradients for D in backward pass\n",
        "          errD_real.backward()\n",
        "          D_x = output.mean().item()\n",
        "\n",
        "          ## Train with all-fake batch\n",
        "          # Generate batch of latent vectors\n",
        "          noise = torch.randn(b_size, nz, 1, 1, device=device)\n",
        "          # Generate fake image batch with G\n",
        "          fake = netG(noise)\n",
        "          label.fill_(fake_label)\n",
        "          # Classify all fake batch with D\n",
        "          output = netD(fake.detach()).view(-1)\n",
        "          # Calculate D's loss on the all-fake batch\n",
        "          errD_fake = criterion(output, label)\n",
        "          # Calculate the gradients for this batch, accumulated (summed) with previous gradients\n",
        "          errD_fake.backward()\n",
        "          D_G_z1 = output.mean().item()\n",
        "          # Compute error of D as sum over the fake and the real batches\n",
        "          errD = errD_real + errD_fake\n",
        "          # Update D\n",
        "          optimizerD.step()\n",
        "\n",
        "        ############################\n",
        "        # (2) Update G network: maximize log(D(G(z)))\n",
        "        ###########################\n",
        "        # Generate batch of latent vectors\n",
        "        noise = torch.randn(b_size, nz, 1, 1, device=device)\n",
        "        # Generate fake image batch with G\n",
        "        fake = netG(noise)\n",
        "        netG.zero_grad()\n",
        "        label.fill_(real_label)  # fake labels are real for generator cost\n",
        "        # Since we just updated D, perform another forward pass of all-fake batch through D\n",
        "        output = netD(fake).view(-1)\n",
        "        # Calculate G's loss based on this output\n",
        "        errG = criterion(output, label)\n",
        "        # Calculate gradients for G\n",
        "        errG.backward()\n",
        "        D_G_z2 = output.mean().item()\n",
        "        # Update G\n",
        "        optimizerG.step()\n",
        "\n",
        "        # Save Losses for plotting later\n",
        "        G_losses.append(errG.item())\n",
        "        D_losses.append(errD.item())\n",
        "\n",
        "    # check generator every 100 epochs and first and last epochs\n",
        "    if (epoch == 0) or (epoch % 100 == 0) or (epoch == num_epochs-1):\n",
        "        with torch.no_grad():\n",
        "          fake = netG(fixed_noise).detach().cpu()\n",
        "        img_list.append(fake)"
      ]
    },
    {
      "cell_type": "code",
      "execution_count": null,
      "metadata": {
        "id": "Nfw14RmM9fBv"
      },
      "outputs": [],
      "source": [
        "plt.figure(figsize=(10,5))\n",
        "plt.title(\"Generator and Discriminator Loss During Training\")\n",
        "plt.plot(G_losses,label=\"G\")\n",
        "plt.plot(D_losses,label=\"D\")\n",
        "plt.xlabel(\"iterations\")\n",
        "plt.ylabel(\"Loss\")\n",
        "plt.legend()\n",
        "plt.show()"
      ]
    },
    {
      "cell_type": "code",
      "execution_count": null,
      "metadata": {
        "id": "JnXMZZ9T9jAd"
      },
      "outputs": [],
      "source": [
        "# Plot the fake images from the last epoch\n",
        "for i in range(len(img_list)):\n",
        "  print('epoch num:', i*(num_epochs // (len(img_list) - 2)))\n",
        "  current_images = img_list[i]\n",
        "  num_pics = current_images.shape[0]\n",
        "  fig, axes = plt.subplots(1, num_pics)\n",
        "  for j in range(num_pics):\n",
        "    axes[j].imshow(decode_image(np.transpose(img_list[i][j, :, :, :].numpy(), (1, 2, 0)), color_block_types, use_color=True))\n",
        "    with torch.no_grad():\n",
        "      title = sigmoid(netD(torch.tensor(np.expand_dims(img_list[i][j, :, :, :], axis=0)).to(device)).detach().cpu().numpy().squeeze())\n",
        "    axes[j].set_title(title)\n",
        "  plt.show()"
      ]
    },
    {
      "cell_type": "code",
      "execution_count": null,
      "metadata": {
        "id": "EloGz8R8wl_M"
      },
      "outputs": [],
      "source": []
    },
    {
      "cell_type": "code",
      "execution_count": null,
      "metadata": {},
      "outputs": [],
      "source": []
    }
  ],
  "metadata": {
    "accelerator": "GPU",
    "colab": {
      "gpuType": "T4",
      "provenance": []
    },
    "kernelspec": {
      "display_name": "CS445",
      "language": "python",
      "name": "python3"
    },
    "language_info": {
      "codemirror_mode": {
        "name": "ipython",
        "version": 3
      },
      "file_extension": ".py",
      "mimetype": "text/x-python",
      "name": "python",
      "nbconvert_exporter": "python",
      "pygments_lexer": "ipython3",
      "version": "3.9.19"
    }
  },
  "nbformat": 4,
  "nbformat_minor": 0
}
